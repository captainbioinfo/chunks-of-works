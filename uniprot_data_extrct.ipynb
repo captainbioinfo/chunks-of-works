{
 "cells": [
  {
   "cell_type": "code",
   "execution_count": null,
   "id": "da165da7",
   "metadata": {},
   "outputs": [
    {
     "name": "stdout",
     "output_type": "stream",
     "text": [
      "c:\\Users\\Farha Tarique\\AppData\\Local\\Programs\\Microsoft VS Code\n",
      "C:\\Users\\Farha Tarique\\Desktop\\BIOINFORMATICS\n"
     ]
    }
   ],
   "source": [
    "import os\n",
    "\n",
    "print(os.getcwd())\n",
    "import os\n",
    "os.chdir(r\"C:\\Users\\Farha Tarique\\Desktop\\BIOINFORMATICS\") # set directory\n",
    "print(os.getcwd())  \n"
   ]
  },
  {
   "cell_type": "code",
   "execution_count": 7,
   "id": "aec6ffd3",
   "metadata": {},
   "outputs": [
    {
     "name": "stdout",
     "output_type": "stream",
     "text": [
      "✅ Fetched P01308\n",
      "✅ Fetched P04637\n",
      "✅ Fetched Q9Y261\n",
      "✅ Fetched P69905\n"
     ]
    }
   ],
   "source": [
    "import requests\n",
    "import csv\n",
    "\n",
    "protein_ids = [\"P01308\", \"P04637\", \"Q9Y261\", \"P69905\"]\n",
    "\n",
    "with open(\"proteins_extended.csv\", \"w\", newline=\"\", encoding=\"utf-8\") as f:\n",
    "    writer = csv.writer(f)\n",
    "    writer.writerow([\n",
    "        \"Entry ID\", \"Protein Name\", \"Gene Names\", \"Organism\",\n",
    "        \"Length\", \"Mass\", \"Function\", \"Subcellular Location\", \"Keywords\", \"Sequence\"\n",
    "    ])\n",
    "\n",
    "    for entry_id in protein_ids:\n",
    "        url = f\"https://rest.uniprot.org/uniprotkb/{entry_id}.json\"\n",
    "        r = requests.get(url)\n",
    "        if r.status_code != 200:\n",
    "            print(f\"Failed: {entry_id}\")\n",
    "            continue\n",
    "\n",
    "        data = r.json()\n",
    "\n",
    "        # Sequence info\n",
    "        seq_info = data.get(\"sequence\", {})\n",
    "        sequence = seq_info.get(\"value\", \"\")\n",
    "        mass = seq_info.get(\"mass\", \"\")\n",
    "        length = seq_info.get(\"length\", \"\")\n",
    "\n",
    "        # Protein name\n",
    "        protein_name = data.get(\"proteinDescription\", {}).get(\"recommendedName\", {}).get(\"fullName\", {}).get(\"value\", \"\")\n",
    "\n",
    "        # Gene names (may be multiple)\n",
    "        genes = data.get(\"genes\", [])\n",
    "        gene_names = \", \".join([g.get(\"geneName\", {}).get(\"value\", \"\") for g in genes])\n",
    "\n",
    "        # Organism\n",
    "        organism = data.get(\"organism\", {}).get(\"scientificName\", \"\")\n",
    "\n",
    "        # Function\n",
    "        function = \"N/A\"\n",
    "        for c in data.get(\"comments\", []):\n",
    "            if c.get(\"commentType\") == \"FUNCTION\":\n",
    "                function = c[\"texts\"][0][\"value\"]\n",
    "                break\n",
    "\n",
    "        # Subcellular location\n",
    "        subcellular = []\n",
    "        for c in data.get(\"comments\", []):\n",
    "            if c.get(\"commentType\") == \"SUBCELLULAR LOCATION\":\n",
    "                for loc in c.get(\"subcellularLocations\", []):\n",
    "                    loc_text = loc.get(\"location\", {}).get(\"value\", \"\")\n",
    "                    if loc_text:\n",
    "                        subcellular.append(loc_text)\n",
    "        subcellular_location = \", \".join(subcellular) if subcellular else \"N/A\"\n",
    "\n",
    "        # Keywords\n",
    "        keywords = [k.get(\"value\", \"\") for k in data.get(\"keywords\", [])]\n",
    "        keywords_str = \", \".join(keywords)\n",
    "\n",
    "        writer.writerow([\n",
    "            entry_id, protein_name, gene_names, organism,\n",
    "            length, mass, function, subcellular_location, keywords_str, sequence\n",
    "        ])\n",
    "\n",
    "        print(f\"✅ Fetched {entry_id}\")\n"
   ]
  },
  {
   "cell_type": "code",
   "execution_count": 9,
   "id": "9e919d27",
   "metadata": {},
   "outputs": [
    {
     "name": "stdout",
     "output_type": "stream",
     "text": [
      "  Entry ID                      Protein Name  Gene Names      Organism  \\\n",
      "0   P01308                           Insulin         INS  Homo sapiens   \n",
      "1   P04637        Cellular tumor antigen p53        TP53  Homo sapiens   \n",
      "2   Q9Y261  Hepatocyte nuclear factor 3-beta       FOXA2  Homo sapiens   \n",
      "3   P69905          Hemoglobin subunit alpha  HBA1, HBA2  Homo sapiens   \n",
      "\n",
      "   Length  Mass                                           Function  \\\n",
      "0     110   NaN  Insulin decreases blood glucose concentration....   \n",
      "1     393   NaN  Multifunctional transcription factor that indu...   \n",
      "2     457   NaN  Transcription factor that is involved in embry...   \n",
      "3     142   NaN  Involved in oxygen transport from the lung to ...   \n",
      "\n",
      "                                Subcellular Location  \\\n",
      "0                                           Secreted   \n",
      "1  Cytoplasm, Nucleus, Nucleus, PML body, Endopla...   \n",
      "2                                 Nucleus, Cytoplasm   \n",
      "3                                                NaN   \n",
      "\n",
      "                                            Keywords  \\\n",
      "0                       , , , , , , , , , , , , , ,    \n",
      "1  , , , , , , , , , , , , , , , , , , , , , , , ...   \n",
      "2                           , , , , , , , , , , , ,    \n",
      "3                       , , , , , , , , , , , , , ,    \n",
      "\n",
      "                                            Sequence  \n",
      "0  MALWMRLLPLLALLALWGPDPAAAFVNQHLCGSHLVEALYLVCGER...  \n",
      "1  MEEPQSDPSVEPPLSQETFSDLWKLLPENNVLSPLPSQAMDDLMLS...  \n",
      "2  MLGAVKMEGHEPSDWSSYYAEPEGYSSVSNMNAGLGMNGMNTYMSM...  \n",
      "3  MVLSPADKTNVKAAWGKVGAHAGEYGAEALERMFLSFPTTKTYFPH...  \n"
     ]
    }
   ],
   "source": [
    "import pandas as pd\n",
    "\n",
    "df = pd.read_csv(\"proteins_extended.csv\")\n",
    "print(df.head())  # first 5 rows\n"
   ]
  }
 ],
 "metadata": {
  "kernelspec": {
   "display_name": "Python 3",
   "language": "python",
   "name": "python3"
  },
  "language_info": {
   "codemirror_mode": {
    "name": "ipython",
    "version": 3
   },
   "file_extension": ".py",
   "mimetype": "text/x-python",
   "name": "python",
   "nbconvert_exporter": "python",
   "pygments_lexer": "ipython3",
   "version": "3.13.5"
  }
 },
 "nbformat": 4,
 "nbformat_minor": 5
}
